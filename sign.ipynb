{
  "nbformat": 4,
  "nbformat_minor": 0,
  "metadata": {
    "colab": {
      "name": "sign.ipynb",
      "provenance": []
    },
    "kernelspec": {
      "name": "python3",
      "display_name": "Python 3"
    },
    "language_info": {
      "name": "python"
    }
  },
  "cells": [
    {
      "cell_type": "code",
      "metadata": {
        "id": "HVmXdUZjnvTP"
      },
      "source": [
        "# ATTENTION: Please do not alter any of the provided code in the exercise. Only add your own code where indicated\n",
        "# ATTENTION: Please do not add or remove any cells in the exercise. The grader will check specific cells based on the cell position.\n",
        "# ATTENTION: Please use the provided epoch values when training.\n",
        "\n",
        "import csv\n",
        "import numpy as np\n",
        "import tensorflow as tf\n",
        "from tensorflow.keras.preprocessing.image import ImageDataGenerator\n",
        "from os import getcwd"
      ],
      "execution_count": 1,
      "outputs": []
    },
    {
      "cell_type": "code",
      "metadata": {
        "colab": {
          "base_uri": "https://localhost:8080/"
        },
        "id": "AXRJXIp4n0ne",
        "outputId": "10b0b2c5-e564-49a7-f95d-077e65e06f9f"
      },
      "source": [
        "def get_data(filename):\n",
        "  # You will need to write code that will read the file passed\n",
        "  # into this function. The first line contains the column headers\n",
        "  # so you should ignore it\n",
        "  # Each successive line contians 785 comma separated values between 0 and 255\n",
        "  # The first value is the label\n",
        "  # The rest are the pixel values for that picture\n",
        "  # The function will return 2 np.array types. One with all the labels\n",
        "  # One with all the images\n",
        "  #\n",
        "  # Tips: \n",
        "  # If you read a full line (as 'row') then row[0] has the label\n",
        "  # and row[1:785] has the 784 pixel values\n",
        "  # Take a look at np.array_split to turn the 784 pixels into 28x28\n",
        "  # You are reading in strings, but need the values to be floats\n",
        "  # Check out np.array().astype for a conversion\n",
        "    with open(filename) as training_file:\n",
        "      # Your code starts here\n",
        "        #images = np.array([])\n",
        "        #labels = np.array([])\n",
        "        images = []\n",
        "        labels = []\n",
        "        #skip first row.\n",
        "        training_file.readline()\n",
        "        for count,row in enumerate(training_file):\n",
        "            row = row.split(\",\")\n",
        "            label = np.array(row[0]).astype(np.float)\n",
        "            image_string = np.array(row[1:785]).astype(np.float)\n",
        "            \n",
        "            image = np.array_split(image_string, 28)\n",
        "            \n",
        "            label = np.array(label) \n",
        "            image = np.array(image) \n",
        "            \n",
        "            labels.append(label)\n",
        "            images.append(image)\n",
        "                \n",
        "                \n",
        "        labels = np.array(labels).astype(float)\n",
        "        images = np.array(images).astype(float)\n",
        "                \n",
        "      # Your code ends here\n",
        "    return images, labels\n",
        "\n",
        "\n",
        "\n",
        "path_sign_mnist_train = f\"{getcwd()}/../tmp/sign_mnist_train.csv\"\n",
        "path_sign_mnist_test = f\"{getcwd()}/../tmp/sign_mnist_test.csv\"\n",
        "training_images, training_labels = get_data(path_sign_mnist_train)\n",
        "testing_images, testing_labels = get_data(path_sign_mnist_test)\n",
        "\n",
        "# Keep these\n",
        "print(training_images.shape)\n",
        "print(training_labels.shape)\n",
        "print(testing_images.shape)\n",
        "print(testing_labels.shape)\n",
        "\n",
        "# Their output should be:\n",
        "# (27455, 28, 28)\n",
        "# (27455,)\n",
        "# (7172, 28, 28)\n",
        "# (7172,)"
      ],
      "execution_count": 6,
      "outputs": [
        {
          "output_type": "stream",
          "text": [
            "(27455, 28, 28)\n",
            "(27455,)\n",
            "(7172, 28, 28)\n",
            "(7172,)\n"
          ],
          "name": "stdout"
        }
      ]
    },
    {
      "cell_type": "code",
      "metadata": {
        "colab": {
          "base_uri": "https://localhost:8080/"
        },
        "id": "UsTXtM7Uo00g",
        "outputId": "1b378946-e02f-44ec-cd6f-8fbe34536632"
      },
      "source": [
        "# In this section you will have to add another dimension to the data\n",
        "# So, for example, if your array is (10000, 28, 28)\n",
        "# You will need to make it (10000, 28, 28, 1)\n",
        "# Hint: np.expand_dims\n",
        "\n",
        "training_images = np.expand_dims(training_images, axis=3)# Your Code Here\n",
        "testing_images = np.expand_dims(testing_images, axis=3)# Your Code Here\n",
        "\n",
        "# Create an ImageDataGenerator and do Image Augmentation\n",
        "train_datagen = ImageDataGenerator(rescale = 1./255.,\n",
        "                                   rotation_range = 40,\n",
        "                                   width_shift_range = 0.2,\n",
        "                                   height_shift_range = 0.2,\n",
        "                                   shear_range = 0.2,\n",
        "                                   zoom_range = 0.2,\n",
        "                                   horizontal_flip = True\n",
        "    )\n",
        "\n",
        "validation_datagen = ImageDataGenerator(rescale = 1.0/255.)\n",
        "   \n",
        "    \n",
        "# Keep These\n",
        "print(training_images.shape)\n",
        "print(testing_images.shape)\n",
        "    \n",
        "# Their output should be:\n",
        "# (27455, 28, 28, 1)\n",
        "# (7172, 28, 28, 1)"
      ],
      "execution_count": 7,
      "outputs": [
        {
          "output_type": "stream",
          "text": [
            "(27455, 28, 28, 1)\n",
            "(7172, 28, 28, 1)\n"
          ],
          "name": "stdout"
        }
      ]
    },
    {
      "cell_type": "code",
      "metadata": {
        "colab": {
          "base_uri": "https://localhost:8080/"
        },
        "id": "R8olEXQ9o5WI",
        "outputId": "22557d08-4772-424d-9917-463ec2e4f59e"
      },
      "source": [
        "\n",
        "train_generator = train_datagen.flow( training_images,training_labels,batch_size=10\n",
        ")\n",
        "\n",
        "validation_generator = validation_datagen.flow(testing_images,testing_labels,batch_size=10\n",
        ")\n",
        "\n",
        "# Define the model\n",
        "# Use no more than 2 Conv2D and 2 MaxPooling2D\n",
        "model = tf.keras.models.Sequential([\n",
        "    # Note the input shape is the desired size of the image 150x150 with 3 bytes color\n",
        "    # This is the first convolution\n",
        "    tf.keras.layers.Conv2D(32, (3,3), activation='relu', input_shape=( 28, 28, 1)),\n",
        "    tf.keras.layers.MaxPooling2D(2, 2),\n",
        "    # The second convolution\n",
        "    tf.keras.layers.Conv2D(32, (3,3), activation='relu'),\n",
        "    tf.keras.layers.MaxPooling2D(2,2),\n",
        "    \n",
        "    # Flatten the results to feed into a DNN\n",
        "    tf.keras.layers.Flatten(),\n",
        "    tf.keras.layers.Dropout(0.5),\n",
        "    # 512 neuron hidden layer\n",
        "    tf.keras.layers.Dense(512, activation='relu'),\n",
        "    tf.keras.layers.Dense(26, activation='softmax')\n",
        "])\n",
        "\n",
        "# Compile Model. \n",
        "model.compile(loss = 'sparse_categorical_crossentropy', optimizer='adam', metrics=['accuracy'])\n",
        "\n",
        "# Train the Model\n",
        "history = model.fit_generator(train_generator, epochs=25, validation_data = validation_generator)\n",
        "\n",
        "\n",
        "model.evaluate(testing_images, testing_labels, verbose=0)"
      ],
      "execution_count": 8,
      "outputs": [
        {
          "output_type": "stream",
          "text": [
            "/usr/local/lib/python3.7/dist-packages/tensorflow/python/keras/engine/training.py:1844: UserWarning: `Model.fit_generator` is deprecated and will be removed in a future version. Please use `Model.fit`, which supports generators.\n",
            "  warnings.warn('`Model.fit_generator` is deprecated and '\n"
          ],
          "name": "stderr"
        },
        {
          "output_type": "stream",
          "text": [
            "Epoch 1/25\n",
            "2746/2746 [==============================] - 46s 17ms/step - loss: 2.9933 - accuracy: 0.1005 - val_loss: 1.7886 - val_accuracy: 0.4130\n",
            "Epoch 2/25\n",
            "2746/2746 [==============================] - 48s 18ms/step - loss: 2.1668 - accuracy: 0.3101 - val_loss: 1.2153 - val_accuracy: 0.6230\n",
            "Epoch 3/25\n",
            "2746/2746 [==============================] - 46s 17ms/step - loss: 1.8223 - accuracy: 0.4152 - val_loss: 0.8927 - val_accuracy: 0.7361\n",
            "Epoch 4/25\n",
            "2746/2746 [==============================] - 47s 17ms/step - loss: 1.6007 - accuracy: 0.4799 - val_loss: 0.8506 - val_accuracy: 0.7365\n",
            "Epoch 5/25\n",
            "2746/2746 [==============================] - 48s 18ms/step - loss: 1.4799 - accuracy: 0.5118 - val_loss: 0.7344 - val_accuracy: 0.7507\n",
            "Epoch 6/25\n",
            "2746/2746 [==============================] - 49s 18ms/step - loss: 1.3800 - accuracy: 0.5433 - val_loss: 0.5866 - val_accuracy: 0.8335\n",
            "Epoch 7/25\n",
            "2746/2746 [==============================] - 49s 18ms/step - loss: 1.3025 - accuracy: 0.5720 - val_loss: 0.5807 - val_accuracy: 0.8083\n",
            "Epoch 8/25\n",
            "2746/2746 [==============================] - 47s 17ms/step - loss: 1.2264 - accuracy: 0.5959 - val_loss: 0.5991 - val_accuracy: 0.8097\n",
            "Epoch 9/25\n",
            "2746/2746 [==============================] - 47s 17ms/step - loss: 1.1774 - accuracy: 0.6082 - val_loss: 0.5995 - val_accuracy: 0.8042\n",
            "Epoch 10/25\n",
            "2746/2746 [==============================] - 46s 17ms/step - loss: 1.1511 - accuracy: 0.6133 - val_loss: 0.4791 - val_accuracy: 0.8468\n",
            "Epoch 11/25\n",
            "2746/2746 [==============================] - 46s 17ms/step - loss: 1.1370 - accuracy: 0.6200 - val_loss: 0.4320 - val_accuracy: 0.8716\n",
            "Epoch 12/25\n",
            "2746/2746 [==============================] - 46s 17ms/step - loss: 1.0661 - accuracy: 0.6455 - val_loss: 0.4993 - val_accuracy: 0.8371\n",
            "Epoch 13/25\n",
            "2746/2746 [==============================] - 46s 17ms/step - loss: 1.0504 - accuracy: 0.6500 - val_loss: 0.4772 - val_accuracy: 0.8300\n",
            "Epoch 14/25\n",
            "2746/2746 [==============================] - 46s 17ms/step - loss: 1.0298 - accuracy: 0.6627 - val_loss: 0.4023 - val_accuracy: 0.8733\n",
            "Epoch 15/25\n",
            "2746/2746 [==============================] - 48s 18ms/step - loss: 1.0120 - accuracy: 0.6653 - val_loss: 0.3818 - val_accuracy: 0.8707\n",
            "Epoch 16/25\n",
            "2746/2746 [==============================] - 46s 17ms/step - loss: 0.9776 - accuracy: 0.6755 - val_loss: 0.4188 - val_accuracy: 0.8586\n",
            "Epoch 17/25\n",
            "2746/2746 [==============================] - 46s 17ms/step - loss: 0.9640 - accuracy: 0.6719 - val_loss: 0.4865 - val_accuracy: 0.8363\n",
            "Epoch 18/25\n",
            "2746/2746 [==============================] - 46s 17ms/step - loss: 0.9740 - accuracy: 0.6757 - val_loss: 0.3702 - val_accuracy: 0.8727\n",
            "Epoch 19/25\n",
            "2746/2746 [==============================] - 46s 17ms/step - loss: 0.9437 - accuracy: 0.6872 - val_loss: 0.3914 - val_accuracy: 0.8716\n",
            "Epoch 20/25\n",
            "2746/2746 [==============================] - 46s 17ms/step - loss: 0.9230 - accuracy: 0.6909 - val_loss: 0.3374 - val_accuracy: 0.8841\n",
            "Epoch 21/25\n",
            "2746/2746 [==============================] - 46s 17ms/step - loss: 0.8953 - accuracy: 0.6999 - val_loss: 0.3902 - val_accuracy: 0.8586\n",
            "Epoch 22/25\n",
            "2746/2746 [==============================] - 46s 17ms/step - loss: 0.9126 - accuracy: 0.6976 - val_loss: 0.3797 - val_accuracy: 0.8576\n",
            "Epoch 23/25\n",
            "2746/2746 [==============================] - 46s 17ms/step - loss: 0.8983 - accuracy: 0.6997 - val_loss: 0.3335 - val_accuracy: 0.8873\n",
            "Epoch 24/25\n",
            "2746/2746 [==============================] - 46s 17ms/step - loss: 0.8844 - accuracy: 0.7044 - val_loss: 0.3597 - val_accuracy: 0.8839\n",
            "Epoch 25/25\n",
            "2746/2746 [==============================] - 46s 17ms/step - loss: 0.8575 - accuracy: 0.7114 - val_loss: 0.3486 - val_accuracy: 0.8701\n"
          ],
          "name": "stdout"
        },
        {
          "output_type": "execute_result",
          "data": {
            "text/plain": [
              "[218.1880340576172, 0.5061349868774414]"
            ]
          },
          "metadata": {
            "tags": []
          },
          "execution_count": 8
        }
      ]
    },
    {
      "cell_type": "code",
      "metadata": {
        "colab": {
          "base_uri": "https://localhost:8080/",
          "height": 545
        },
        "id": "iZ3KaSqapAiQ",
        "outputId": "61c1a84f-ca41-44c0-af19-5b156edc3f4b"
      },
      "source": [
        "# Plot the chart for accuracy and loss on both training and validation\n",
        "%matplotlib inline\n",
        "import matplotlib.pyplot as plt\n",
        "acc = history.history['accuracy']\n",
        "val_acc = history.history['val_accuracy']\n",
        "loss = history.history['loss']\n",
        "val_loss =  history.history['val_loss']\n",
        "\n",
        "epochs = range(len(acc))\n",
        "\n",
        "plt.plot(epochs, acc, 'r', label='Training accuracy')\n",
        "plt.plot(epochs, val_acc, 'b', label='Validation accuracy')\n",
        "plt.title('Training and validation accuracy')\n",
        "plt.legend()\n",
        "plt.figure()\n",
        "\n",
        "plt.plot(epochs, loss, 'r', label='Training Loss')\n",
        "plt.plot(epochs, val_loss, 'b', label='Validation Loss')\n",
        "plt.title('Training and validation loss')\n",
        "plt.legend()\n",
        "\n",
        "plt.show()"
      ],
      "execution_count": 9,
      "outputs": [
        {
          "output_type": "display_data",
          "data": {
            "image/png": "[encoded data removed]",
            "text/plain": [
              "<Figure size 432x288 with 1 Axes>"
            ]
          },
          "metadata": {
            "tags": [],
            "needs_background": "light"
          }
        },
        {
          "output_type": "display_data",
          "data": {
            "image/png": "[encoded data removed]",
            "text/plain": [
              "<Figure size 432x288 with 1 Axes>"
            ]
          },
          "metadata": {
            "tags": [],
            "needs_background": "light"
          }
        }
      ]
    },
    {
      "cell_type": "markdown",
      "metadata": {
        "id": "1tvMyrKUrJeb"
      },
      "source": [
        "# Submission Instructions"
      ]
    },
    {
      "cell_type": "code",
      "metadata": {
        "id": "ww4fSxJorKc3"
      },
      "source": [
        "# Now click the 'Submit Assignment' button above."
      ],
      "execution_count": null,
      "outputs": []
    },
    {
      "cell_type": "markdown",
      "metadata": {
        "id": "jTzqhd4BrN-O"
      },
      "source": [
        "When you're done or would like to take a break, please run the two cells below to save your work and close the Notebook. This will free up resources for your fellow learners."
      ]
    },
    {
      "cell_type": "code",
      "metadata": {
        "colab": {
          "base_uri": "https://localhost:8080/",
          "height": 17
        },
        "id": "IdHo-BOErSbi",
        "outputId": "4558127f-898e-4fec-d64c-4dce81f79444"
      },
      "source": [
        "%%javascript\n",
        "<!-- Save the notebook -->\n",
        "IPython.notebook.save_checkpoint();"
      ],
      "execution_count": 16,
      "outputs": [
        {
          "output_type": "display_data",
          "data": {
            "application/javascript": [
              "<!-- Save the notebook -->\n",
              "IPython.notebook.save_checkpoint();"
            ],
            "text/plain": [
              "<IPython.core.display.Javascript object>"
            ]
          },
          "metadata": {
            "tags": []
          }
        }
      ]
    },
    {
      "cell_type": "code",
      "metadata": {
        "colab": {
          "base_uri": "https://localhost:8080/",
          "height": 17
        },
        "id": "VmB_jkdUrVz1",
        "outputId": "0832bdbb-08e7-45f7-d91e-4c28688ddb5f"
      },
      "source": [
        "%%javascript\n",
        "IPython.notebook.session.delete();\n",
        "window.onbeforeunload = null\n",
        "setTimeout(function() { window.close(); }, 1000);"
      ],
      "execution_count": 17,
      "outputs": [
        {
          "output_type": "display_data",
          "data": {
            "application/javascript": [
              "IPython.notebook.session.delete();\n",
              "window.onbeforeunload = null\n",
              "setTimeout(function() { window.close(); }, 1000);"
            ],
            "text/plain": [
              "<IPython.core.display.Javascript object>"
            ]
          },
          "metadata": {
            "tags": []
          }
        }
      ]
    }
  ]
}